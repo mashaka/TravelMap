{
 "cells": [
  {
   "cell_type": "code",
   "execution_count": 1,
   "metadata": {
    "collapsed": true
   },
   "outputs": [],
   "source": [
    "import pandas as pd\n",
    "import numpy as np\n",
    "import json"
   ]
  },
  {
   "cell_type": "code",
   "execution_count": 2,
   "metadata": {
    "collapsed": true
   },
   "outputs": [],
   "source": [
    "TRAIN_BEFORE = 'train.csv'\n",
    "TRAIN_AFTER = 'train_new.csv'\n",
    "COUNTRIES_FRONTEND_JSON = 'countries.json'"
   ]
  },
  {
   "cell_type": "code",
   "execution_count": 3,
   "metadata": {
    "collapsed": true
   },
   "outputs": [],
   "source": [
    "df = pd.read_csv(TRAIN_BEFORE, sep=' ')"
   ]
  },
  {
   "cell_type": "code",
   "execution_count": 4,
   "metadata": {
    "collapsed": false
   },
   "outputs": [
    {
     "name": "stdout",
     "output_type": "stream",
     "text": [
      "['Andorra', 'United Arab Emirates', 'Afghanistan', 'Antigua and Barbuda', 'Anguilla']\n"
     ]
    }
   ],
   "source": [
    "countries_before = list(df.columns.values)[1:]\n",
    "print(countries_before[:5])"
   ]
  },
  {
   "cell_type": "code",
   "execution_count": 5,
   "metadata": {
    "collapsed": false
   },
   "outputs": [],
   "source": [
    "with open(COUNTRIES_FRONTEND_JSON, encoding='utf-8') as data_file:    \n",
    "    code_to_countries = json.load(data_file)"
   ]
  },
  {
   "cell_type": "code",
   "execution_count": 6,
   "metadata": {
    "collapsed": true
   },
   "outputs": [],
   "source": [
    "countries_to_code = {v: k for k, v in code_to_countries.items()}"
   ]
  },
  {
   "cell_type": "code",
   "execution_count": 7,
   "metadata": {
    "collapsed": true
   },
   "outputs": [],
   "source": [
    "countries_errors = []\n",
    "for c in countries_before:\n",
    "    if c not in countries_to_code:\n",
    "        countries_errors.append(c)"
   ]
  },
  {
   "cell_type": "code",
   "execution_count": 8,
   "metadata": {
    "collapsed": false
   },
   "outputs": [
    {
     "name": "stdout",
     "output_type": "stream",
     "text": [
      "18\n"
     ]
    }
   ],
   "source": [
    "print(len(countries_errors))"
   ]
  },
  {
   "cell_type": "code",
   "execution_count": 9,
   "metadata": {
    "collapsed": false
   },
   "outputs": [
    {
     "name": "stdout",
     "output_type": "stream",
     "text": [
      "['Antarctica', 'Bonaire, Saint Eustatius and Saba', 'Bouvet Island', 'French Guiana', 'Guadeloupe', 'Heard Island and McDonald Islands', 'Kosovo', 'Martinique', 'Mayotte', 'Netherlands Antilles', 'Saint Barthelemy', 'Saint Martin', 'Saint Pierre and Miquelon', 'Serbia and Montenegro', 'Svalbard and Jan Mayen', 'United States Minor Outlying Islands', 'Wallis and Futuna', 'Western Sahara']\n"
     ]
    }
   ],
   "source": [
    "print(sorted(countries_errors))"
   ]
  },
  {
   "cell_type": "code",
   "execution_count": 10,
   "metadata": {
    "collapsed": false
   },
   "outputs": [],
   "source": [
    "df.drop(countries_errors, axis=1, inplace=True)\n",
    "countries_after = list(df.columns.values)[1:]"
   ]
  },
  {
   "cell_type": "code",
   "execution_count": 11,
   "metadata": {
    "collapsed": false
   },
   "outputs": [
    {
     "name": "stdout",
     "output_type": "stream",
     "text": [
      "       home_country  Andorra  United Arab Emirates  Afghanistan  \\\n",
      "count   5234.000000   5234.0           5234.000000       5234.0   \n",
      "mean     113.286779      0.0              0.014138          0.0   \n",
      "std       75.537818      0.0              0.118072          0.0   \n",
      "min        1.000000      0.0              0.000000          0.0   \n",
      "25%       47.000000      0.0              0.000000          0.0   \n",
      "50%      100.000000      0.0              0.000000          0.0   \n",
      "75%      182.000000      0.0              0.000000          0.0   \n",
      "max      247.000000      0.0              1.000000          0.0   \n",
      "\n",
      "       Antigua and Barbuda  Anguilla      Albania      Armenia       Angola  \\\n",
      "count               5234.0    5234.0  5234.000000  5234.000000  5234.000000   \n",
      "mean                   0.0       0.0     0.002293     0.000955     0.001528   \n",
      "std                    0.0       0.0     0.047832     0.030896     0.039069   \n",
      "min                    0.0       0.0     0.000000     0.000000     0.000000   \n",
      "25%                    0.0       0.0     0.000000     0.000000     0.000000   \n",
      "50%                    0.0       0.0     0.000000     0.000000     0.000000   \n",
      "75%                    0.0       0.0     0.000000     0.000000     0.000000   \n",
      "max                    0.0       0.0     1.000000     1.000000     1.000000   \n",
      "\n",
      "         Argentina     ...       Venezuela, Bolivarian Republic of  \\\n",
      "count  5234.000000     ...                             5234.000000   \n",
      "mean      0.013183     ...                                0.003439   \n",
      "std       0.114069     ...                                0.058548   \n",
      "min       0.000000     ...                                0.000000   \n",
      "25%       0.000000     ...                                0.000000   \n",
      "50%       0.000000     ...                                0.000000   \n",
      "75%       0.000000     ...                                0.000000   \n",
      "max       1.000000     ...                                1.000000   \n",
      "\n",
      "       Virgin Islands, British  Virgin Islands, U.S.     Viet Nam  Vanuatu  \\\n",
      "count                   5234.0                5234.0  5234.000000   5234.0   \n",
      "mean                       0.0                   0.0     0.007451      0.0   \n",
      "std                        0.0                   0.0     0.086007      0.0   \n",
      "min                        0.0                   0.0     0.000000      0.0   \n",
      "25%                        0.0                   0.0     0.000000      0.0   \n",
      "50%                        0.0                   0.0     0.000000      0.0   \n",
      "75%                        0.0                   0.0     0.000000      0.0   \n",
      "max                        0.0                   0.0     1.000000      0.0   \n",
      "\n",
      "        Samoa        Yemen  South Africa       Zambia     Zimbabwe  \n",
      "count  5234.0  5234.000000   5234.000000  5234.000000  5234.000000  \n",
      "mean      0.0     0.000191      0.005541     0.000382     0.000764  \n",
      "std       0.0     0.013822      0.074236     0.019546     0.027637  \n",
      "min       0.0     0.000000      0.000000     0.000000     0.000000  \n",
      "25%       0.0     0.000000      0.000000     0.000000     0.000000  \n",
      "50%       0.0     0.000000      0.000000     0.000000     0.000000  \n",
      "75%       0.0     0.000000      0.000000     0.000000     0.000000  \n",
      "max       0.0     1.000000      1.000000     1.000000     1.000000  \n",
      "\n",
      "[8 rows x 235 columns]\n"
     ]
    }
   ],
   "source": [
    "print(df.describe())"
   ]
  },
  {
   "cell_type": "code",
   "execution_count": 12,
   "metadata": {
    "collapsed": true
   },
   "outputs": [],
   "source": [
    "df.rename(columns=countries_to_code, inplace=True)"
   ]
  },
  {
   "cell_type": "code",
   "execution_count": 13,
   "metadata": {
    "collapsed": false
   },
   "outputs": [
    {
     "name": "stdout",
     "output_type": "stream",
     "text": [
      "<class 'pandas.core.frame.DataFrame'>\n",
      "RangeIndex: 5234 entries, 0 to 5233\n",
      "Columns: 235 entries, home_country to ZW\n",
      "dtypes: int64(235)\n",
      "memory usage: 9.4 MB\n",
      "None\n"
     ]
    }
   ],
   "source": [
    "print(df.info())"
   ]
  },
  {
   "cell_type": "code",
   "execution_count": 14,
   "metadata": {
    "collapsed": false
   },
   "outputs": [
    {
     "name": "stdout",
     "output_type": "stream",
     "text": [
      "   home_country  AD  AE  AF  AG  AI  AL  AM  AO  AR ...  VE  VG  VI  VN  VU  \\\n",
      "0           184   0   0   0   0   0   0   0   0   0 ...   0   0   0   0   0   \n",
      "1           225   0   0   0   0   0   0   0   0   0 ...   0   0   0   0   0   \n",
      "2            64   0   0   0   0   0   0   0   0   0 ...   0   0   0   0   0   \n",
      "3            48   0   0   0   0   0   0   0   0   0 ...   0   0   0   0   0   \n",
      "4           193   0   0   0   0   0   0   0   0   0 ...   0   0   0   0   0   \n",
      "\n",
      "   WS  YE  ZA  ZM  ZW  \n",
      "0   0   0   0   0   0  \n",
      "1   0   0   0   0   0  \n",
      "2   0   0   0   0   0  \n",
      "3   0   0   0   0   0  \n",
      "4   0   0   0   0   0  \n",
      "\n",
      "[5 rows x 235 columns]\n"
     ]
    }
   ],
   "source": [
    "print(df.head())"
   ]
  },
  {
   "cell_type": "code",
   "execution_count": 15,
   "metadata": {
    "collapsed": false
   },
   "outputs": [
    {
     "name": "stdout",
     "output_type": "stream",
     "text": [
      "['Andorra', 'United Arab Emirates', 'Afghanistan', 'Antigua and Barbuda', 'Anguilla']\n"
     ]
    }
   ],
   "source": [
    "print(countries_before[:5])"
   ]
  },
  {
   "cell_type": "code",
   "execution_count": 16,
   "metadata": {
    "collapsed": false
   },
   "outputs": [],
   "source": [
    "num_to_new_num = dict()\n",
    "for i, country in enumerate(countries_before):\n",
    "    if country in countries_after:\n",
    "        num_to_new_num[i] = countries_after.index(country)"
   ]
  },
  {
   "cell_type": "code",
   "execution_count": 17,
   "metadata": {
    "collapsed": false
   },
   "outputs": [
    {
     "name": "stdout",
     "output_type": "stream",
     "text": [
      "       home_country      AD           AE      AF      AG      AI           AL  \\\n",
      "count   5234.000000  5234.0  5234.000000  5234.0  5234.0  5234.0  5234.000000   \n",
      "mean     105.555216     0.0     0.014138     0.0     0.0     0.0     0.002293   \n",
      "std       71.359730     0.0     0.118072     0.0     0.0     0.0     0.047832   \n",
      "min        1.000000     0.0     0.000000     0.0     0.0     0.0     0.000000   \n",
      "25%       43.000000     0.0     0.000000     0.0     0.0     0.0     0.000000   \n",
      "50%       92.000000     0.0     0.000000     0.0     0.0     0.0     0.000000   \n",
      "75%      170.250000     0.0     0.000000     0.0     0.0     0.0     0.000000   \n",
      "max      231.000000     0.0     1.000000     0.0     0.0     0.0     1.000000   \n",
      "\n",
      "                AM           AO           AR     ...                VE  \\\n",
      "count  5234.000000  5234.000000  5234.000000     ...       5234.000000   \n",
      "mean      0.000955     0.001528     0.013183     ...          0.003439   \n",
      "std       0.030896     0.039069     0.114069     ...          0.058548   \n",
      "min       0.000000     0.000000     0.000000     ...          0.000000   \n",
      "25%       0.000000     0.000000     0.000000     ...          0.000000   \n",
      "50%       0.000000     0.000000     0.000000     ...          0.000000   \n",
      "75%       0.000000     0.000000     0.000000     ...          0.000000   \n",
      "max       1.000000     1.000000     1.000000     ...          1.000000   \n",
      "\n",
      "           VG      VI           VN      VU      WS           YE           ZA  \\\n",
      "count  5234.0  5234.0  5234.000000  5234.0  5234.0  5234.000000  5234.000000   \n",
      "mean      0.0     0.0     0.007451     0.0     0.0     0.000191     0.005541   \n",
      "std       0.0     0.0     0.086007     0.0     0.0     0.013822     0.074236   \n",
      "min       0.0     0.0     0.000000     0.0     0.0     0.000000     0.000000   \n",
      "25%       0.0     0.0     0.000000     0.0     0.0     0.000000     0.000000   \n",
      "50%       0.0     0.0     0.000000     0.0     0.0     0.000000     0.000000   \n",
      "75%       0.0     0.0     0.000000     0.0     0.0     0.000000     0.000000   \n",
      "max       0.0     0.0     1.000000     0.0     0.0     1.000000     1.000000   \n",
      "\n",
      "                ZM           ZW  \n",
      "count  5234.000000  5234.000000  \n",
      "mean      0.000382     0.000764  \n",
      "std       0.019546     0.027637  \n",
      "min       0.000000     0.000000  \n",
      "25%       0.000000     0.000000  \n",
      "50%       0.000000     0.000000  \n",
      "75%       0.000000     0.000000  \n",
      "max       1.000000     1.000000  \n",
      "\n",
      "[8 rows x 235 columns]\n"
     ]
    }
   ],
   "source": [
    "for i, row in enumerate(df.iterrows()):\n",
    "    if df['home_country'][i] in num_to_new_num:\n",
    "        df['home_country'][i] = num_to_new_num[df['home_country'][i]]\n",
    "    else:\n",
    "        df['home_country'][i] = 400\n",
    "\n",
    "    \n",
    "print(df.describe())"
   ]
  },
  {
   "cell_type": "code",
   "execution_count": 23,
   "metadata": {
    "collapsed": true
   },
   "outputs": [],
   "source": [
    "df.to_csv(TRAIN_AFTER, sep='\\t', encoding='utf-8', index=False)"
   ]
  },
  {
   "cell_type": "code",
   "execution_count": 22,
   "metadata": {
    "collapsed": false
   },
   "outputs": [
    {
     "data": {
      "text/plain": [
       "'{\"GG\": 0, \"TO\": 0, \"KR\": 0, \"EE\": 0, \"MT\": 0, \"KG\": 0, \"VA\": 0, \"AX\": 0, \"CL\": 0, \"GE\": 0, \"TG\": 0, \"MV\": 0, \"MS\": 0, \"LV\": 0, \"LA\": 0, \"PT\": 0, \"CI\": 0, \"BW\": 0, \"GQ\": 0, \"IE\": 0, \"NE\": 0, \"KP\": 0, \"TH\": 0, \"JP\": 0, \"SL\": 0, \"AS\": 0, \"ME\": 0, \"ST\": 0, \"BD\": 0, \"IM\": 0, \"LK\": 0, \"PA\": 0, \"SK\": 0, \"PH\": 0, \"GA\": 0, \"ZW\": 0, \"BZ\": 0, \"IL\": 0, \"FJ\": 0, \"PG\": 0, \"LR\": 0, \"PK\": 0, \"SI\": 0, \"AT\": 0, \"AG\": 0, \"GS\": 0, \"AO\": 0, \"HU\": 0, \"SN\": 0, \"BG\": 0, \"GI\": 0, \"NL\": 0, \"IN\": 0, \"DO\": 0, \"SA\": 0, \"VU\": 0, \"YE\": 0, \"AR\": 0, \"TC\": 0, \"SO\": 0, \"DE\": 0, \"IR\": 0, \"TT\": 0, \"ML\": 0, \"VI\": 0, \"CY\": 0, \"HT\": 0, \"MO\": 0, \"RE\": 0, \"ES\": 0, \"GL\": 0, \"SY\": 0, \"CX\": 0, \"ZM\": 0, \"KN\": 0, \"VC\": 0, \"MD\": 0, \"GY\": 0, \"GD\": 0, \"CF\": 0, \"NZ\": 0, \"BR\": 0, \"UA\": 0, \"MM\": 0, \"LU\": 0, \"KW\": 0, \"GN\": 0, \"DK\": 0, \"CO\": 0, \"TW\": 0, \"MN\": 0, \"CM\": 0, \"MY\": 0, \"MU\": 0, \"BN\": 0, \"RW\": 0, \"FK\": 0, \"SC\": 0, \"PS\": 0, \"LI\": 0, \"RU\": 0, \"FR\": 0, \"GM\": 0, \"AL\": 0, \"PE\": 0, \"MX\": 0, \"TR\": 0, \"TK\": 0, \"WS\": 0, \"NU\": 0, \"AE\": 0, \"FM\": 0, \"KY\": 0, \"NR\": 0, \"JO\": 0, \"VE\": 0, \"SG\": 0, \"GH\": 0, \"IT\": 0, \"HR\": 0, \"US\": 0, \"CR\": 0, \"home_country\": \"RU\", \"LT\": 0, \"PN\": 0, \"GT\": 0, \"AF\": 0, \"MG\": 0, \"MK\": 0, \"CK\": 0, \"BO\": 0, \"PR\": 0, \"BA\": 0, \"PY\": 0, \"CV\": 0, \"RS\": 0, \"RO\": 0, \"LC\": 0, \"CH\": 0, \"CU\": 0, \"BI\": 0, \"PL\": 0, \"VN\": 0, \"KZ\": 0, \"EC\": 0, \"DJ\": 0, \"LB\": 0, \"EG\": 0, \"TV\": 0, \"SX\": 0, \"TD\": 0, \"BB\": 0, \"NA\": 0, \"CA\": 0, \"DM\": 0, \"TZ\": 0, \"MH\": 0, \"SZ\": 0, \"CG\": 0, \"JE\": 0, \"HN\": 0, \"QA\": 0, \"BY\": 0, \"SB\": 0, \"GR\": 0, \"MZ\": 0, \"TL\": 0, \"MW\": 0, \"NG\": 0, \"NF\": 0, \"MR\": 0, \"BH\": 0, \"SE\": 0, \"NO\": 0, \"NC\": 0, \"ZA\": 0, \"GU\": 0, \"KI\": 0, \"TN\": 0, \"UZ\": 0, \"UG\": 0, \"TF\": 0, \"BT\": 0, \"IQ\": 0, \"AI\": 0, \"ER\": 0, \"CZ\": 0, \"HK\": 0, \"TM\": 0, \"NI\": 0, \"SD\": 0, \"AW\": 0, \"IS\": 0, \"FO\": 0, \"GW\": 0, \"IO\": 0, \"MA\": 0, \"ET\": 0, \"LS\": 0, \"SV\": 0, \"SS\": 0, \"CD\": 0, \"AD\": 0, \"KE\": 0, \"JM\": 0, \"PW\": 0, \"MC\": 0, \"ID\": 0, \"CW\": 0, \"TJ\": 0, \"KM\": 0, \"OM\": 0, \"FI\": 0, \"SM\": 0, \"GB\": 0, \"AU\": 0, \"SR\": 0, \"VG\": 0, \"AM\": 0, \"PF\": 0, \"NP\": 0, \"BM\": 0, \"BE\": 0, \"BJ\": 0, \"AZ\": 0, \"SH\": 0, \"CN\": 0, \"BS\": 0, \"UY\": 0, \"CC\": 0, \"BF\": 0, \"KH\": 0, \"LY\": 0, \"DZ\": 0, \"MP\": 0}'"
      ]
     },
     "execution_count": 22,
     "metadata": {},
     "output_type": "execute_result"
    }
   ],
   "source": [
    "codes = list(df.columns.values)[1:]\n",
    "example = {c: 0 for c in codes}\n",
    "example['home_country'] = 'RU'\n",
    "str(example).replace(\"\\'\", \"\\\"\")"
   ]
  },
  {
   "cell_type": "code",
   "execution_count": null,
   "metadata": {
    "collapsed": true
   },
   "outputs": [],
   "source": []
  }
 ],
 "metadata": {
  "kernelspec": {
   "display_name": "Python 3",
   "language": "python",
   "name": "python3"
  },
  "language_info": {
   "codemirror_mode": {
    "name": "ipython",
    "version": 3
   },
   "file_extension": ".py",
   "mimetype": "text/x-python",
   "name": "python",
   "nbconvert_exporter": "python",
   "pygments_lexer": "ipython3",
   "version": "3.5.1"
  }
 },
 "nbformat": 4,
 "nbformat_minor": 0
}
